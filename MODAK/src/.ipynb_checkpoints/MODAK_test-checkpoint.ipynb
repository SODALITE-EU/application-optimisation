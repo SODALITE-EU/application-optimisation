{
 "cells": [
  {
   "cell_type": "code",
   "execution_count": 1,
   "metadata": {},
   "outputs": [
    {
     "name": "stdout",
     "output_type": "stream",
     "text": [
      "This is the MODAK driver program\n"
     ]
    }
   ],
   "source": [
    "from MODAK_driver import MODAK_driver"
   ]
  },
  {
   "cell_type": "code",
   "execution_count": 2,
   "metadata": {},
   "outputs": [],
   "source": [
    "driver = MODAK_driver(PRODUCTION=True)"
   ]
  },
  {
   "cell_type": "code",
   "execution_count": 3,
   "metadata": {},
   "outputs": [],
   "source": [
    "repo_dir = '/Users/ksivalinga/Documents/sodalite/iac-model-repo/db/iac-model'"
   ]
  },
  {
   "cell_type": "code",
   "execution_count": 4,
   "metadata": {},
   "outputs": [
    {
     "name": "stdout",
     "output_type": "stream",
     "text": [
      "+--------------+\n",
      "|  databaseName|\n",
      "+--------------+\n",
      "|       default|\n",
      "|     iac_model|\n",
      "|test_iac_model|\n",
      "+--------------+\n",
      "\n"
     ]
    }
   ],
   "source": [
    "df = driver.applySQL('show databases')\n",
    "df.show()"
   ]
  },
  {
   "cell_type": "code",
   "execution_count": 5,
   "metadata": {},
   "outputs": [
    {
     "data": {
      "text/plain": [
       "3"
      ]
     },
     "execution_count": 5,
     "metadata": {},
     "output_type": "execute_result"
    }
   ],
   "source": [
    "df.count()"
   ]
  },
  {
   "cell_type": "code",
   "execution_count": 6,
   "metadata": {},
   "outputs": [
    {
     "name": "stdout",
     "output_type": "stream",
     "text": [
      "+---------+--------------+-----------+\n",
      "| database|     tableName|isTemporary|\n",
      "+---------+--------------+-----------+\n",
      "|iac_model|   application|      false|\n",
      "|iac_model|      appmodel|      false|\n",
      "|iac_model|     audit_log|      false|\n",
      "|iac_model|     benchmark|      false|\n",
      "|iac_model|infrastructure|      false|\n",
      "|iac_model|        mapper|      false|\n",
      "|iac_model|         model|      false|\n",
      "|iac_model|  optimisation|      false|\n",
      "|iac_model|         queue|      false|\n",
      "+---------+--------------+-----------+\n",
      "\n"
     ]
    }
   ],
   "source": [
    "df = driver.applySQL('show tables')\n",
    "df.show()"
   ]
  },
  {
   "cell_type": "code",
   "execution_count": 7,
   "metadata": {},
   "outputs": [
    {
     "data": {
      "text/plain": [
       "DataFrame[]"
      ]
     },
     "execution_count": 7,
     "metadata": {},
     "output_type": "execute_result"
    }
   ],
   "source": [
    "driver.applySQL('drop table infrastructure')\n",
    "CREATE_INFRA_TABLE = \"create external table          \\\n",
    "        infrastructure(infra_id  int,                \\\n",
    "        name string,                                 \\\n",
    "        num_nodes int,                               \\\n",
    "        is_active boolean,                           \\\n",
    "        description string)                          \\\n",
    "        stored as PARQUET location                   \\\n",
    "        '{}/infrastructure'\"\n",
    "driver.applySQL(CREATE_INFRA_TABLE.format(repo_dir))"
   ]
  },
  {
   "cell_type": "code",
   "execution_count": 8,
   "metadata": {},
   "outputs": [
    {
     "name": "stdout",
     "output_type": "stream",
     "text": [
      "+-----------+---------+-------+\n",
      "|   col_name|data_type|comment|\n",
      "+-----------+---------+-------+\n",
      "|   infra_id|      int|   null|\n",
      "|       name|   string|   null|\n",
      "|  num_nodes|      int|   null|\n",
      "|  is_active|  boolean|   null|\n",
      "|description|   string|   null|\n",
      "+-----------+---------+-------+\n",
      "\n"
     ]
    }
   ],
   "source": [
    "df = driver.applySQL('desc infrastructure')\n",
    "df.show()\n"
   ]
  },
  {
   "cell_type": "code",
   "execution_count": 9,
   "metadata": {},
   "outputs": [
    {
     "name": "stdout",
     "output_type": "stream",
     "text": [
      "++\n",
      "||\n",
      "++\n",
      "++\n",
      "\n"
     ]
    }
   ],
   "source": [
    "df = driver.applySQL(\"insert into infrastructure select 1 as infra_id,'test' as name,2 as num_nodes,\\\n",
    "TRUE as is_active, 'test' as description\")\n",
    "df.show()"
   ]
  },
  {
   "cell_type": "code",
   "execution_count": 10,
   "metadata": {},
   "outputs": [
    {
     "data": {
      "text/plain": [
       "DataFrame[]"
      ]
     },
     "execution_count": 10,
     "metadata": {},
     "output_type": "execute_result"
    }
   ],
   "source": [
    "driver.applySQL('drop table queue')\n",
    "CREATE_QUEUE_TABLE = \"create external table          \\\n",
    "        queue(queue_id  int,                         \\\n",
    "        name string,                                 \\\n",
    "        num_nodes int,                               \\\n",
    "        is_active boolean,                           \\\n",
    "        node_spec string,                            \\\n",
    "        description string,                          \\\n",
    "        infra_id int)                                \\\n",
    "        stored as parquet location                   \\\n",
    "        '{}/queue'\"\n",
    "driver.applySQL(CREATE_QUEUE_TABLE.format(repo_dir))"
   ]
  },
  {
   "cell_type": "code",
   "execution_count": 11,
   "metadata": {},
   "outputs": [
    {
     "name": "stdout",
     "output_type": "stream",
     "text": [
      "+-----------+---------+-------+\n",
      "|   col_name|data_type|comment|\n",
      "+-----------+---------+-------+\n",
      "|   queue_id|      int|   null|\n",
      "|       name|   string|   null|\n",
      "|  num_nodes|      int|   null|\n",
      "|  is_active|  boolean|   null|\n",
      "|  node_spec|   string|   null|\n",
      "|description|   string|   null|\n",
      "|   infra_id|      int|   null|\n",
      "+-----------+---------+-------+\n",
      "\n"
     ]
    }
   ],
   "source": [
    "df = driver.applySQL('desc queue')\n",
    "df.show()"
   ]
  },
  {
   "cell_type": "code",
   "execution_count": 12,
   "metadata": {},
   "outputs": [
    {
     "data": {
      "text/plain": [
       "DataFrame[]"
      ]
     },
     "execution_count": 12,
     "metadata": {},
     "output_type": "execute_result"
    }
   ],
   "source": [
    "driver.applySQL('drop table benchmark')\n",
    "CREATE_BENCH_TABLE = \"create external table          \\\n",
    "        benchmark(run_id int,                        \\\n",
    "        queue_id  int,                               \\\n",
    "        num_cores int,                               \\\n",
    "        compute_flops double,                        \\\n",
    "        memory_bw double,                            \\\n",
    "        network_bw double,                           \\\n",
    "        io_bw double,                                \\\n",
    "        acc_compute_flops double,                    \\\n",
    "        acc_memory_bw double,                        \\\n",
    "        PCIe_bw double)                              \\\n",
    "        stored as parquet location                   \\\n",
    "        '{}/benchmark'\"\n",
    "driver.applySQL(CREATE_BENCH_TABLE.format(repo_dir))"
   ]
  },
  {
   "cell_type": "code",
   "execution_count": 13,
   "metadata": {},
   "outputs": [
    {
     "name": "stdout",
     "output_type": "stream",
     "text": [
      "+-----------------+---------+-------+\n",
      "|         col_name|data_type|comment|\n",
      "+-----------------+---------+-------+\n",
      "|           run_id|      int|   null|\n",
      "|         queue_id|      int|   null|\n",
      "|        num_cores|      int|   null|\n",
      "|    compute_flops|   double|   null|\n",
      "|        memory_bw|   double|   null|\n",
      "|       network_bw|   double|   null|\n",
      "|            io_bw|   double|   null|\n",
      "|acc_compute_flops|   double|   null|\n",
      "|    acc_memory_bw|   double|   null|\n",
      "|          PCIe_bw|   double|   null|\n",
      "+-----------------+---------+-------+\n",
      "\n"
     ]
    }
   ],
   "source": [
    "df = driver.applySQL('desc benchmark')\n",
    "df.show()"
   ]
  },
  {
   "cell_type": "code",
   "execution_count": 14,
   "metadata": {},
   "outputs": [
    {
     "data": {
      "text/plain": [
       "DataFrame[]"
      ]
     },
     "execution_count": 14,
     "metadata": {},
     "output_type": "execute_result"
    }
   ],
   "source": [
    "driver.applySQL('drop table model')\n",
    "CREATE_MODEL_TABLE = \"create external table          \\\n",
    "        model(model_id int,                          \\\n",
    "        queue_id  int,                               \\\n",
    "        compute_flops string,                     \\\n",
    "        memory_bw string,                            \\\n",
    "        network_bw string,                           \\\n",
    "        io_bw string,                                \\\n",
    "        acc_compute_flops string,                    \\\n",
    "        acc_memory_bw string,                        \\\n",
    "        PCIe_bw string)                              \\\n",
    "        stored as parquet location                   \\\n",
    "        '{}/model'\"\n",
    "driver.applySQL(CREATE_MODEL_TABLE.format(repo_dir))"
   ]
  },
  {
   "cell_type": "code",
   "execution_count": 15,
   "metadata": {},
   "outputs": [
    {
     "name": "stdout",
     "output_type": "stream",
     "text": [
      "+-----------------+---------+-------+\n",
      "|         col_name|data_type|comment|\n",
      "+-----------------+---------+-------+\n",
      "|         model_id|      int|   null|\n",
      "|         queue_id|      int|   null|\n",
      "|    compute_flops|   string|   null|\n",
      "|        memory_bw|   string|   null|\n",
      "|       network_bw|   string|   null|\n",
      "|            io_bw|   string|   null|\n",
      "|acc_compute_flops|   string|   null|\n",
      "|    acc_memory_bw|   string|   null|\n",
      "|          PCIe_bw|   string|   null|\n",
      "+-----------------+---------+-------+\n",
      "\n"
     ]
    }
   ],
   "source": [
    "df = driver.applySQL('desc model')\n",
    "df.show()"
   ]
  },
  {
   "cell_type": "code",
   "execution_count": 16,
   "metadata": {},
   "outputs": [
    {
     "data": {
      "text/plain": [
       "DataFrame[]"
      ]
     },
     "execution_count": 16,
     "metadata": {},
     "output_type": "execute_result"
    }
   ],
   "source": [
    "driver.applySQL('drop table appmodel')\n",
    "CREATE_APPMODEL_TABLE = \"create external table       \\\n",
    "        appmodel(appmodel_id int,                       \\\n",
    "        queue_id  int,                               \\\n",
    "        app_id  int,                                 \\\n",
    "        compute_flops double,                        \\\n",
    "        memory_bw double,                            \\\n",
    "        network_bw double,                           \\\n",
    "        io_bw double,                                \\\n",
    "        acc_compute_flops double,                    \\\n",
    "        acc_memory_bw double,                        \\\n",
    "        PCIe_bw double,                              \\\n",
    "        acc_share double)                            \\\n",
    "        stored as parquet location                   \\\n",
    "        '{}/appmodel'\"\n",
    "driver.applySQL(CREATE_APPMODEL_TABLE.format(repo_dir))"
   ]
  },
  {
   "cell_type": "code",
   "execution_count": 17,
   "metadata": {},
   "outputs": [
    {
     "name": "stdout",
     "output_type": "stream",
     "text": [
      "+-----------------+---------+-------+\n",
      "|         col_name|data_type|comment|\n",
      "+-----------------+---------+-------+\n",
      "|      appmodel_id|      int|   null|\n",
      "|         queue_id|      int|   null|\n",
      "|           app_id|      int|   null|\n",
      "|    compute_flops|   double|   null|\n",
      "|        memory_bw|   double|   null|\n",
      "|       network_bw|   double|   null|\n",
      "|            io_bw|   double|   null|\n",
      "|acc_compute_flops|   double|   null|\n",
      "|    acc_memory_bw|   double|   null|\n",
      "|          PCIe_bw|   double|   null|\n",
      "|        acc_share|   double|   null|\n",
      "+-----------------+---------+-------+\n",
      "\n"
     ]
    }
   ],
   "source": [
    "df = driver.applySQL('desc appmodel')\n",
    "df.show()"
   ]
  },
  {
   "cell_type": "code",
   "execution_count": 18,
   "metadata": {},
   "outputs": [
    {
     "data": {
      "text/plain": [
       "DataFrame[]"
      ]
     },
     "execution_count": 18,
     "metadata": {},
     "output_type": "execute_result"
    }
   ],
   "source": [
    "driver.applySQL('drop table application')\n",
    "CREATE_APP_TABLE = \"create external table            \\\n",
    "        application(app_id int,                      \\\n",
    "        name  string,                                \\\n",
    "        app_type string,                             \\\n",
    "        description string,                          \\\n",
    "        src string)                                  \\\n",
    "        stored as parquet location                   \\\n",
    "        '{}/application'\"\n",
    "driver.applySQL(CREATE_APP_TABLE.format(repo_dir))"
   ]
  },
  {
   "cell_type": "code",
   "execution_count": 19,
   "metadata": {},
   "outputs": [
    {
     "name": "stdout",
     "output_type": "stream",
     "text": [
      "+-----------+---------+-------+\n",
      "|   col_name|data_type|comment|\n",
      "+-----------+---------+-------+\n",
      "|     app_id|      int|   null|\n",
      "|       name|   string|   null|\n",
      "|   app_type|   string|   null|\n",
      "|description|   string|   null|\n",
      "|        src|   string|   null|\n",
      "+-----------+---------+-------+\n",
      "\n"
     ]
    }
   ],
   "source": [
    "df = driver.applySQL('desc application')\n",
    "df.show()"
   ]
  },
  {
   "cell_type": "code",
   "execution_count": 20,
   "metadata": {},
   "outputs": [
    {
     "data": {
      "text/plain": [
       "DataFrame[]"
      ]
     },
     "execution_count": 20,
     "metadata": {},
     "output_type": "execute_result"
    }
   ],
   "source": [
    "driver.applySQL('drop table audit_log')\n",
    "CREATE_AUDIT_TABLE = \"create external table         \\\n",
    "        audit_log(file_line  bigint,               \\\n",
    "        start_time timestamp,                       \\\n",
    "        end_time timestamp,                         \\\n",
    "        run_time_sec bigint,                        \\\n",
    "        queue_id  int,                              \\\n",
    "        app_id  int,                                \\\n",
    "        aprun_id bigint,                            \\\n",
    "        job_id string,                              \\\n",
    "        num_nodes int,                              \\\n",
    "        run_stat int,                               \\\n",
    "        command string,                             \\\n",
    "        command_uniq string)                        \\\n",
    "        stored as parquet location                  \\\n",
    "        '{}/audit_log'\"\n",
    "driver.applySQL(CREATE_AUDIT_TABLE.format(repo_dir))"
   ]
  },
  {
   "cell_type": "code",
   "execution_count": 21,
   "metadata": {},
   "outputs": [
    {
     "name": "stdout",
     "output_type": "stream",
     "text": [
      "+------------+---------+-------+\n",
      "|    col_name|data_type|comment|\n",
      "+------------+---------+-------+\n",
      "|   file_line|   bigint|   null|\n",
      "|  start_time|timestamp|   null|\n",
      "|    end_time|timestamp|   null|\n",
      "|run_time_sec|   bigint|   null|\n",
      "|    queue_id|      int|   null|\n",
      "|      app_id|      int|   null|\n",
      "|    aprun_id|   bigint|   null|\n",
      "|      job_id|   string|   null|\n",
      "|   num_nodes|      int|   null|\n",
      "|    run_stat|      int|   null|\n",
      "|     command|   string|   null|\n",
      "|command_uniq|   string|   null|\n",
      "+------------+---------+-------+\n",
      "\n"
     ]
    }
   ],
   "source": [
    "df = driver.applySQL('desc audit_log')\n",
    "df.show()"
   ]
  },
  {
   "cell_type": "code",
   "execution_count": 22,
   "metadata": {},
   "outputs": [
    {
     "data": {
      "text/plain": [
       "DataFrame[]"
      ]
     },
     "execution_count": 22,
     "metadata": {},
     "output_type": "execute_result"
    }
   ],
   "source": [
    "driver.applySQL('drop table optimisation')\n",
    "CREATE_OPT_TABLE = \"create external table            \\\n",
    "        optimisation(opt_id int,                      \\\n",
    "        opt_dsl_code  string,                                \\\n",
    "        app_name  string,                                \\\n",
    "        target string,                                  \\\n",
    "        optimisation string)                                  \\\n",
    "        stored as parquet location                   \\\n",
    "        '{}/optimisation'\"\n",
    "driver.applySQL(CREATE_OPT_TABLE.format(repo_dir))"
   ]
  },
  {
   "cell_type": "code",
   "execution_count": 23,
   "metadata": {},
   "outputs": [
    {
     "name": "stdout",
     "output_type": "stream",
     "text": [
      "+------------+---------+-------+\n",
      "|    col_name|data_type|comment|\n",
      "+------------+---------+-------+\n",
      "|      opt_id|      int|   null|\n",
      "|opt_dsl_code|   string|   null|\n",
      "|    app_name|   string|   null|\n",
      "|      target|   string|   null|\n",
      "|optimisation|   string|   null|\n",
      "+------------+---------+-------+\n",
      "\n"
     ]
    }
   ],
   "source": [
    "df = driver.applySQL('desc optimisation')\n",
    "df.show()"
   ]
  },
  {
   "cell_type": "code",
   "execution_count": 7,
   "metadata": {},
   "outputs": [
    {
     "data": {
      "text/plain": [
       "DataFrame[]"
      ]
     },
     "execution_count": 7,
     "metadata": {},
     "output_type": "execute_result"
    }
   ],
   "source": [
    "driver.applySQL('drop table mapper')\n",
    "CREATE_MAPPER_TABLE = \"create external table            \\\n",
    "        mapper(map_id int,                      \\\n",
    "        opt_dsl_code  string,                                \\\n",
    "        container_file string,                             \\\n",
    "        image_type string,                                  \\\n",
    "        image_hub string,                                  \\\n",
    "        src string)                                        \\\n",
    "        stored as parquet location                   \\\n",
    "        '{}/mapper'\"\n",
    "driver.applySQL(CREATE_MAPPER_TABLE.format(repo_dir))"
   ]
  },
  {
   "cell_type": "code",
   "execution_count": 25,
   "metadata": {},
   "outputs": [
    {
     "name": "stdout",
     "output_type": "stream",
     "text": [
      "+--------------+---------+-------+\n",
      "|      col_name|data_type|comment|\n",
      "+--------------+---------+-------+\n",
      "|        map_id|      int|   null|\n",
      "|  opt_dsl_code|   string|   null|\n",
      "|container_file|   string|   null|\n",
      "|    image_type|   string|   null|\n",
      "|     image_hub|   string|   null|\n",
      "|           src|   string|   null|\n",
      "+--------------+---------+-------+\n",
      "\n"
     ]
    }
   ],
   "source": [
    "df = driver.applySQL('desc mapper')\n",
    "df.show()"
   ]
  },
  {
   "cell_type": "code",
   "execution_count": 11,
   "metadata": {},
   "outputs": [],
   "source": [
    "df = driver.applySQL(\"SELECT * FROM mapper\")\n",
    "df.coalesce(1).write.option(\"header\", \"true\").format(\"com.databricks.spark.csv\").save(\"/Users/ksivalinga/Documents/CERL/sodalite/test-iac-model/mapper.csv\")\n",
    "df = driver.applySQL(\"SELECT * FROM optimisation\")\n",
    "df.coalesce(1).write.option(\"header\", \"true\").format(\"com.databricks.spark.csv\").save(\"/Users/ksivalinga/Documents/CERL/sodalite/test-iac-model/optimisation.csv\")"
   ]
  },
  {
   "cell_type": "code",
   "execution_count": 26,
   "metadata": {},
   "outputs": [
    {
     "name": "stdout",
     "output_type": "stream",
     "text": [
      "+------+------------+--------+------+------------+\n",
      "|opt_id|opt_dsl_code|app_name|target|optimisation|\n",
      "+------+------------+--------+------+------------+\n",
      "+------+------------+--------+------+------------+\n",
      "\n"
     ]
    }
   ],
   "source": [
    "driver.applySQL('select * from optimisation').show()"
   ]
  },
  {
   "cell_type": "code",
   "execution_count": 12,
   "metadata": {},
   "outputs": [],
   "source": [
    "driver.applySQL('alter table mapper concatenate')"
   ]
  },
  {
   "cell_type": "code",
   "execution_count": 6,
   "metadata": {},
   "outputs": [
    {
     "name": "stdout",
     "output_type": "stream",
     "text": [
      "Test mapper main\n",
      "+------+\n",
      "|opt_id|\n",
      "+------+\n",
      "|     9|\n",
      "+------+\n",
      "\n",
      "9\n",
      "INSERT INTO optimisation select 10 as opt_id, 'TF_PIP_XLA' as opt_dsl_code,                         'tensorflow' as app_name, 'cpu_type:x86,acc_type:nvidia' as target, 'xla:true,version:1.1' as optimisation\n"
     ]
    }
   ],
   "source": [
    "from mapper import mapper\n",
    "m = mapper(driver)\n",
    "print('Test mapper main')\n",
    "# m.addContainer('TF_PIP_XLA','AI/containers/tensorflow/tensorflow_pip_xla','Docker')\n",
    "m.add_optimisation('TF_PIP_XLA','tensorflow','cpu_type:x86,acc_type:nvidia','xla:true,version:1.1')\n",
    "# print(m.getContainer('TF_PIP_XLA'))"
   ]
  },
  {
   "cell_type": "code",
   "execution_count": 19,
   "metadata": {},
   "outputs": [
    {
     "name": "stdout",
     "output_type": "stream",
     "text": [
      "+------+\n",
      "|opt_id|\n",
      "+------+\n",
      "|     8|\n",
      "+------+\n",
      "\n",
      "8\n",
      "INSERT INTO optimisation select 9 as opt_id, 'TF_PIP_XLA' as opt_dsl_code,                         'tensorflow' as app_name, 'cpu_type:x86,acc_type:nvidia' as target, 'xla:true,version:1.1' as optimisation, '2.1' as version\n"
     ]
    }
   ],
   "source": [
    "m.add_optimisation(opt_dsl_code='TF_PIP_XLA',app_name='tensorflow',target='cpu_type:x86,acc_type:nvidia',optimisation='xla:true,version:1.1',version='2.1')"
   ]
  },
  {
   "cell_type": "code",
   "execution_count": 8,
   "metadata": {},
   "outputs": [
    {
     "name": "stdout",
     "output_type": "stream",
     "text": [
      "+------------+\n",
      "|opt_dsl_code|\n",
      "+------------+\n",
      "|  TF_PIP_XLA|\n",
      "+------------+\n",
      "\n"
     ]
    }
   ],
   "source": [
    "df = driver.applySQL(\"select opt_dsl_code from optimisation where app_name = 'tensorflow'\\\n",
    "and target like '%cpu_type:x86%' and target like '%acc_type:nvidia%' and \\\n",
    "optimisation like '%version:1.1%' and optimisation like '%xla:true%'\")\n",
    "df.show()"
   ]
  },
  {
   "cell_type": "code",
   "execution_count": 17,
   "metadata": {},
   "outputs": [
    {
     "name": "stdout",
     "output_type": "stream",
     "text": [
      "select container_file, image_hub from mapper                                   where opt_dsl_code='TF_PIP_XLA' order by map_id desc limit 1\n"
     ]
    },
    {
     "data": {
      "text/plain": [
       "'Docker/AI/containers/tensorflow/tensorflow_pip_xla'"
      ]
     },
     "execution_count": 17,
     "metadata": {},
     "output_type": "execute_result"
    }
   ],
   "source": [
    "opt_dsl_code = 'TF_PIP_XLA'\n",
    "stmt = \"select container_file, image_hub from mapper \\\n",
    "                                  where opt_dsl_code='{}' order by map_id desc limit 1\"\n",
    "print(stmt.format(opt_dsl_code))\n",
    "df = driver.applySQL(stmt.format(opt_dsl_code))\n",
    "container_file = df.select('container_file').collect()[0][0]\n",
    "image_hub = df.select('image_hub').collect()[0][0]\n",
    "str(image_hub) + str('/')+str(container_file)"
   ]
  },
  {
   "cell_type": "code",
   "execution_count": 8,
   "metadata": {},
   "outputs": [],
   "source": [
    "df = driver.applySQL(\"insert into mapper select * from csv.`/Users/ksivalinga/Documents/sodalite/iac-model-repo/db/data/mapper.csv`\")"
   ]
  },
  {
   "cell_type": "code",
   "execution_count": 9,
   "metadata": {},
   "outputs": [
    {
     "name": "stdout",
     "output_type": "stream",
     "text": [
      "+------+--------------------+--------------------+----------+---------+----+\n",
      "|map_id|        opt_dsl_code|      container_file|image_type|image_hub| src|\n",
      "+------+--------------------+--------------------+----------+---------+----+\n",
      "|  null|        opt_dsl_code|      container_file|image_type|image_hub| src|\n",
      "|     1| pytorch-1.5-cpu-pip|modakopt/modak:py...|    docker|   docker|null|\n",
      "|     2| pytorch-1.5-cpu-src|modakopt/modak:py...|    docker|   docker|null|\n",
      "|     3| pytorch-1.5-gpu-pip|modakopt/modak:py...|    docker|   docker|null|\n",
      "|     4| pytorch-1.5-gpu-src|modakopt/modak:py...|    docker|   docker|null|\n",
      "|     5|pytorch-latest-cp...|modakopt/modak:py...|    docker|   docker|null|\n",
      "|     6|pytorch-latest-cp...|modakopt/modak:py...|    docker|   docker|null|\n",
      "|     7|pytorch-latest-gp...|modakopt/modak:py...|    docker|   docker|null|\n",
      "|     8|tensorflow-2.1-cp...|modakopt/modak:te...|    docker|   docker|null|\n",
      "|     9|tensorflow-2.1-cp...|modakopt/modak:te...|    docker|   docker|null|\n",
      "|    10|tensorflow-2.1-gp...|modakopt/modak:te...|    docker|   docker|null|\n",
      "|    11|tensorflow-2.1-gp...|modakopt/modak:te...|    docker|   docker|null|\n",
      "|    12|tensorflow-2.4-cp...|modakopt/modak:te...|    docker|   docker|null|\n",
      "|    13|tensorflow-latest...|modakopt/modak:te...|    docker|   docker|null|\n",
      "|    14|tensorflow-latest...|modakopt/modak:te...|    docker|   docker|null|\n",
      "|    15|tensorflow-latest...|modakopt/modak:te...|    docker|   docker|null|\n",
      "|    16|tensorflow-ngraph...|modakopt/modak:te...|    docker|   docker|null|\n",
      "|    17|         test-ubuntu|modakopt/modak:te...|    docker|   docker|null|\n",
      "|    18|        ubuntu-18-04|modakopt/modak:ub...|    docker|   docker|null|\n",
      "+------+--------------------+--------------------+----------+---------+----+\n",
      "\n"
     ]
    }
   ],
   "source": [
    "driver.applySQL(\"select * from mapper\").show()"
   ]
  },
  {
   "cell_type": "code",
   "execution_count": 34,
   "metadata": {},
   "outputs": [],
   "source": [
    "df = driver.applySQL(\"insert into optimisation select * from csv.`/Users/ksivalinga/Documents/sodalite/iac-model-repo/db/data/optimisation.csv`\")"
   ]
  },
  {
   "cell_type": "code",
   "execution_count": 35,
   "metadata": {},
   "outputs": [
    {
     "name": "stdout",
     "output_type": "stream",
     "text": [
      "+------+--------------------+----------+--------------------+--------------------+\n",
      "|opt_id|        opt_dsl_code|  app_name|              target|        optimisation|\n",
      "+------+--------------------+----------+--------------------+--------------------+\n",
      "|  null|        opt_dsl_code|  app_name|              target|        optimisation|\n",
      "|     1| pytorch-1.5-cpu-pip|   pytorch|        cpu_type:x86|        version:1.5,|\n",
      "|     2| pytorch-1.5-cpu-src|   pytorch|        cpu_type:x86|        version:1.5,|\n",
      "|     3| pytorch-1.5-gpu-pip|   pytorch|cpu_type:x86,acc_...|        version:1.5,|\n",
      "|     4| pytorch-1.5-gpu-src|   pytorch|cpu_type:x86,acc_...|        version:1.5,|\n",
      "|     5|pytorch-latest-cp...|   pytorch|        cpu_type:x86|     version:latest,|\n",
      "|     6|pytorch-latest-cp...|   pytorch|        cpu_type:x86|     version:latest,|\n",
      "|     7|pytorch-latest-gp...|   pytorch|cpu_type:x86,acc_...|     version:latest,|\n",
      "|     8|tensorflow-2.1-cp...|tensorflow|        cpu_type:x86|xla:true,version:...|\n",
      "|     9|tensorflow-2.1-cp...|tensorflow|        cpu_type:x86|xla:true,version:...|\n",
      "|    10|tensorflow-2.1-gp...|tensorflow|cpu_type:x86,acc_...|xla:true,version:...|\n",
      "|    11|tensorflow-2.1-gp...|tensorflow|cpu_type:x86,acc_...|xla:true,version:...|\n",
      "|    12|tensorflow-2.4-cp...|tensorflow|        cpu_type:x86|xla:true,version:...|\n",
      "|    13|tensorflow-latest...|tensorflow|        cpu_type:x86|xla:true,version:...|\n",
      "|    14|tensorflow-latest...|tensorflow|cpu_type:x86,acc_...|xla:true,version:...|\n",
      "|    15|tensorflow-latest...|tensorflow|cpu_type:x86,acc_...|xla:true,version:...|\n",
      "|    16|tensorflow-ngraph...|tensorflow|        cpu_type:x86|ngraph:true,versi...|\n",
      "|    17|         test-ubuntu|      test|        cpu_type:x86|           test:true|\n",
      "|    18|        ubuntu-18-04|    ubuntu|        cpu_type:x86|                null|\n",
      "+------+--------------------+----------+--------------------+--------------------+\n",
      "\n"
     ]
    }
   ],
   "source": [
    "driver.applySQL(\"select * from optimisation\").show()"
   ]
  },
  {
   "cell_type": "code",
   "execution_count": null,
   "metadata": {},
   "outputs": [],
   "source": []
  }
 ],
 "metadata": {
  "kernelspec": {
   "display_name": "Python 3",
   "language": "python",
   "name": "python3"
  },
  "language_info": {
   "codemirror_mode": {
    "name": "ipython",
    "version": 3
   },
   "file_extension": ".py",
   "mimetype": "text/x-python",
   "name": "python",
   "nbconvert_exporter": "python",
   "pygments_lexer": "ipython3",
   "version": "3.7.5"
  }
 },
 "nbformat": 4,
 "nbformat_minor": 2
}
